{
 "cells": [
  {
   "cell_type": "raw",
   "metadata": {},
   "source": [
    "# Day 5:\n",
    "    Lists:\n",
    "How to Create a List\n",
    "Accessing List Items Using Positive Indexing\n",
    "Accessing List Items Using Negative Indexing\n",
    "Unpacking List Items\n",
    "Slicing Items from a List\n",
    "Modifying Lists\n",
    "Checking Items in a List\n",
    "Adding Items to a List\n",
    "Inserting Items into a List\n",
    "Removing Items from a List\n",
    "Removing Items Using Pop\n",
    "Removing Items Using Del\n",
    "Clearing List Items\n",
    "Copying a List\n",
    "Joining Lists\n",
    "Counting Items in a List\n",
    "Finding Index of an Item\n",
    "Reversing a List\n",
    "Sorting List Items\n",
    "Exercises: Day 5"
   ]
  },
  {
   "cell_type": "raw",
   "metadata": {},
   "source": [
    "Lists\n",
    "There are four collection data types in python :\n",
    "\n",
    "List: is a collection which is ordered and changeable(modifiable). Allows duplicate members.\n",
    "Tuple: is a collection which is ordered and unchangeable or unmodifiable(immutable). Allows duplicate members.\n",
    "Set: is a collection which is unordered, unindexed and unmodifiable, but you can add new items. No duplicate members.\n",
    "Dictionary: is a collection which is unordered, changeable(modifiable) and indexed. No duplicate members.\n",
    "A list is collection of different data types which is ordered and modifiable(mutable). A list can be empty or it may have different data type items or items"
   ]
  },
  {
   "cell_type": "raw",
   "metadata": {},
   "source": [
    "How to Create a List\n",
    "In python we can create lists in two ways:\n",
    "\n",
    "Using list built-in function\n",
    "# syntax\n",
    "lst = list()\n",
    "empty_list = list() # this is an empty list, no item in the list\n",
    "print(len(empty_list)) # 0\n",
    "Using square brackets, []\n",
    "# syntax\n",
    "lst = []\n",
    "empty_list = [] # this is an empty list, no item in the list\n",
    "print(len(empty_list)) # 0"
   ]
  },
  {
   "cell_type": "raw",
   "metadata": {},
   "source": [
    "Lists with initial values. We use len() to find the length of a list.\n",
    "\n",
    "fruits = ['banana', 'orange', 'mango', 'lemon']                     # list of fruits\n",
    "vegetables = ['Tomato', 'Potato', 'Cabbage','Onion', 'Carrot']      # list of vegetables\n",
    "animal_products = ['milk', 'meat', 'butter', 'yoghurt']             # list of animal products\n",
    "web_techs = ['HTML', 'CSS', 'JS', 'React','Redux', 'Node', 'MongDB'] # list of web technologies\n",
    "countries = ['Finland', 'Estonia', 'Denmark', 'Sweden', 'Norway']\n",
    "\n",
    "# Print the lists and its length\n",
    "print('Fruits:', fruits)\n",
    "print('Number of fruits:', len(fruits))\n",
    "print('Vegetables:', vegetables)\n",
    "print('Number of vegetables:', len(vegetables))\n",
    "print('Animal products:',animal_products)\n",
    "print('Number of animal products:', len(animal_products))\n",
    "print('Web technologies:', web_techs)\n",
    "print('Number of web technologies:', len(web_techs))\n",
    "print('Countries:', countries)\n",
    "print('Number of countries:', len(countries))"
   ]
  },
  {
   "cell_type": "raw",
   "metadata": {},
   "source": [
    "Lists can have items of different data types\n",
    " lst = ['Asabeneh', 250, True, {'country':'Finland', 'city':'Helsinki'}] # list containing different data types"
   ]
  },
  {
   "cell_type": "raw",
   "metadata": {},
   "source": [
    "Accessing List Items Using Positive Indexing\n",
    "We access each item in a list using their index. A list index starts from 0. \n",
    "[0,1,2,3]"
   ]
  },
  {
   "cell_type": "raw",
   "metadata": {},
   "source": [
    "fruits = ['banana', 'orange', 'mango', 'lemon']\n",
    "first_fruit = fruits[0] # we are accessing the first item using its index\n",
    "print(first_fruit)      # banana\n",
    "second_fruit = fruits[1]\n",
    "print(second_fruit)     # orange\n",
    "last_fruit = fruits[3]\n",
    "print(last_fruit) # lemon\n",
    "# Last index\n",
    "last_index = len(fruits) - 1\n",
    "last_fruit = fruits[last_index]"
   ]
  },
  {
   "cell_type": "raw",
   "metadata": {},
   "source": [
    "Accessing List Items Using Negative Indexing\n",
    "Negative indexing means beginning from the end, -1 refers to the last item, -2 refers to the second last item.\n",
    "fruits = ['banana', 'orange', 'mango', 'lemon']\n",
    "first_fruit = fruits[-4]\n",
    "last_fruit = fruits[-1]\n",
    "second_last = fruits[-2]\n",
    "print(first_fruit)      # banana\n",
    "print(last_fruit)       # lemon\n",
    "print(second_last)      # mango"
   ]
  },
  {
   "cell_type": "raw",
   "metadata": {},
   "source": [
    "lst = ['item','item2','item3', 'item4', 'item5']\n",
    "first_item, second_item, third_item, *rest = lst\n",
    "print(first_item)     # item1\n",
    "print(second_item)    # item2\n",
    "print(third_item)     # item3\n",
    "print(rest)           # ['item4', 'item5']"
   ]
  },
  {
   "cell_type": "raw",
   "metadata": {},
   "source": [
    "# First Example\n",
    "fruits = ['banana', 'orange', 'mango', 'lemon','lime','apple']\n",
    "first_fruit, second_fruit, third_fruit, *rest = lst\n",
    "print(first_fruit)     # banana\n",
    "print(second_fruit)    # orange\n",
    "print(third_fruit)     # mango\n",
    "print(rest)           # ['lemon','lime','apple']\n",
    "# Second Example about unpacking list\n",
    "first, second, third,*rest, tenth = [1,2,3,4,5,6,7,8,9,10]\n",
    "print(first)          # 1\n",
    "print(second)         # 2\n",
    "print(third)          # 3\n",
    "print(rest)           # [4,5,6,7,8,9]\n",
    "print(tenth)          # 10\n",
    "# Third Example about unpacking list\n",
    "countries = ['Germany', 'France','Belgium','Sweden','Denmark','Finland','Norway','Iceland','Estonia']\n",
    "gr, fr, bg, sw, *scandic, es = countries\n",
    "print(gr)\n",
    "print(fr)\n",
    "print(bg)\n",
    "print(sw)\n",
    "print(scandic)\n",
    "print(es)"
   ]
  },
  {
   "cell_type": "raw",
   "metadata": {},
   "source": [
    "Slicing Items from a List\n",
    "\n",
    "Positive Indexing: We can specify a range of positive indexes by specifying the start, end and step, the return value will be a new list. (default values for start = 0, end = len(lst) - 1 (last item), step = 1)\n",
    "\n",
    "fruits = ['banana', 'orange', 'mango', 'lemon']\n",
    "all_fruits = fruits[0:4] # it returns all the fruits\n",
    "# this will also give the same result as the one above\n",
    "all_fruits = fruits[0:] # if we don't set where to stop it takes all the rest\n",
    "orange_and_mango = fruits[1:3] # it does not include the first index\n",
    "orange_mango_lemon = fruits[1:]\n",
    "orange_and_lemon = fruits[::2] # here we used a 3rd argument, step. It will take every 2cnd item - ['orange', 'lemon']\n",
    "\n",
    "Negative Indexing: We can specify a range of negative indexes by specifying the start, end and step, the return value will be a new list.\n",
    "\n",
    "fruits = ['banana', 'orange', 'mango', 'lemon']\n",
    "all_fruits = fruits[-4:] # it returns all the fruits\n",
    "orange_and_mango = fruits[-3:-1] # it does not include the last index\n",
    "orange_mango_lemon = fruits[-3:] # this will give the same result as the one above\n",
    "reverse_fruits = fruits[::-1] # a negative step will take the list in reverse order"
   ]
  },
  {
   "cell_type": "raw",
   "metadata": {},
   "source": [
    "Modifying Lists\n",
    "List is a mutable or modifiable ordered collection of items. Lets modify the fruit list.\n",
    "\n",
    "fruits = ['banana', 'orange', 'mango', 'lemon']\n",
    "fruits[0] = 'avocado'\n",
    "print(fruits)       #  ['avocado', 'orange', 'mango', 'lemon']\n",
    "fruits[1] = 'apple'\n",
    "print(fruits)       #  ['avocado', 'apple', 'mango', 'lemon']\n",
    "last_index = len(fruits)\n",
    "fruits[last_index] = 'lime'\n",
    "print(fruits)        #  ['avocado', 'apple', 'mango', 'lime']"
   ]
  },
  {
   "cell_type": "raw",
   "metadata": {},
   "source": [
    "Checking Items in a List\n",
    "\n",
    "fruits = ['banana', 'orange', 'mango', 'lemon']\n",
    "does_exist = 'banana' in fruits\n",
    "print(does_exist)  # True\n",
    "does_exist = 'lime' in fruits\n",
    "print(does_exist)  # False"
   ]
  },
  {
   "cell_type": "raw",
   "metadata": {},
   "source": [
    "Adding Items to a List\n",
    "To add item to the end of an existing list we use the method\n",
    "\n",
    "# syntax\n",
    "lst = list()\n",
    "lst.append(item)\n",
    "fruits = ['banana', 'orange', 'mango', 'lemon']\n",
    "fruits.append('apple')\n",
    "print(fruits)           # ['banana', 'orange', 'mango', 'lemon', 'apple']\n",
    "fruits.append('lime')   # ['banana', 'orange', 'mango', 'lemon', 'apple', 'lime']\n",
    "print(fruits)"
   ]
  },
  {
   "cell_type": "raw",
   "metadata": {},
   "source": [
    "Inserting Items into a List\n",
    "Use insert() method to insert a single item at a specified index in a list. Note that other items are shifted to the right.\n",
    "\n",
    "# syntax\n",
    "lst = ['item1', 'item2']\n",
    "lst.insert(index, item)\n",
    "fruits = ['banana', 'orange', 'mango', 'lemon']\n",
    "fruits.insert(2, 'apple') # insert apple between orange and mango\n",
    "print(fruits)           # ['banana', 'orange', 'apple', 'mango', 'lemon']\n",
    "fruits.insert(3, 'lime')   # ['banana', 'orange', 'apple', 'lime', 'mango', 'lemon']\n",
    "print(fruits)"
   ]
  },
  {
   "cell_type": "raw",
   "metadata": {},
   "source": [
    "Removing Items from a List\n",
    "The remove method removes a specified item from a list\n",
    "\n",
    "# syntax\n",
    "lst = ['item1', 'item2']\n",
    "lst.remove(item)\n",
    "fruits = ['banana', 'orange', 'mango', 'lemon', 'banana']\n",
    "fruits.remove('banana')\n",
    "print(fruits)  # ['orange', 'mango', 'lemon', 'banana'] - this method removes the first occurence of the item in the list\n",
    "fruits.remove('lemon')\n",
    "print(fruits)  # ['orange', 'mango', 'banana']"
   ]
  },
  {
   "cell_type": "raw",
   "metadata": {},
   "source": [
    "Removing Items Using Pop\n",
    "The pop() method removes the specified index, (or the last item if index is not specified):\n",
    "\n",
    "# syntax\n",
    "lst = ['item1', 'item2']\n",
    "lst.pop()       # last item\n",
    "lst.pop(index)\n",
    "fruits = ['banana', 'orange', 'mango', 'lemon']\n",
    "fruits.pop()\n",
    "print(fruits)       # ['banana', 'orange', 'mango']\n",
    "\n",
    "fruits.pop(0)\n",
    "print(fruits)       # ['orange', 'mango']"
   ]
  },
  {
   "cell_type": "raw",
   "metadata": {},
   "source": [
    "Removing Items Using Del\n",
    "The del keyword removes the specified index and it can also be used to delete items within index range. It can also delete the list completely\n",
    "\n",
    "# syntax\n",
    "lst = ['item1', 'item2']\n",
    "del lst[index] # only a single item\n",
    "del lst        # to delete the list completely\n",
    "fruits = ['banana', 'orange', 'mango', 'lemon', 'kiwi', 'lime']\n",
    "del fruits[0]\n",
    "print(fruits)       # ['orange', 'mango', 'lemon', 'kiwi', 'lime']\n",
    "del fruits[1]\n",
    "print(fruits)       # ['orange', 'lemon', 'kiwi', 'lime']\n",
    "del fruits[1:3]     # this deletes items between given indexes, so it does not delete the item with index 3!\n",
    "print(fruits)       # ['orange', 'lime']\n",
    "del fruits\n",
    "print(fruits)       # This should give: NameError: name 'fruits' is not defined"
   ]
  },
  {
   "cell_type": "raw",
   "metadata": {},
   "source": [
    "Clearing List Items\n",
    "The clear() method empties the list:\n",
    "\n",
    "# syntax\n",
    "lst = ['item1', 'item2']\n",
    "lst.clear()\n",
    "fruits = ['banana', 'orange', 'mango', 'lemon']\n",
    "fruits.clear()\n",
    "print(fruits)       # []"
   ]
  },
  {
   "cell_type": "raw",
   "metadata": {},
   "source": [
    "Copying a List\n",
    "It is possible to copy a list by reassigning it to a new variable in the following way: list2 = list1. Now, list2 is a reference of list1, any changes we make in list2 will also modify the original, list2. But there are lots of case in which we do not like to modify the original instead we like to have a different copy. One of way avoid the problem above is using copy().\n",
    "\n",
    "# syntax\n",
    "lst = ['item1', 'item2']\n",
    "lst_copy = lst.copy()\n",
    "fruits = ['banana', 'orange', 'mango', 'lemon']\n",
    "fruits_copy = fruits.copy()\n",
    "print(fruits_copy)       # ['banana', 'orange', 'mango', 'lemon']"
   ]
  },
  {
   "cell_type": "raw",
   "metadata": {},
   "source": [
    "Joining Lists\n",
    "There are several ways to join, or concatenate, two or more lists in Python.\n",
    "\n",
    "Plus Operator (+)\n",
    "# syntax\n",
    "list3 = list1 + list2\n",
    "positive_numbers = [1, 2, 3, 4, 5]\n",
    "zero = [0]\n",
    "negative_numbers = [-5,-4,-3,-2,-1]\n",
    "integers = negative_numbers + zero + positive_numbers\n",
    "print(integers)\n",
    "fruits = ['banana', 'orange', 'mango', 'lemon']\n",
    "vegetables = ['Tomato', 'Potato', 'Cabbage', 'Onion', 'Carrot']\n",
    "fruits_and_vegetables = fruits + vegetables\n",
    "print(fruits_and_vegetables )"
   ]
  },
  {
   "cell_type": "raw",
   "metadata": {},
   "source": [
    "Joining using extend() method\n",
    "\n",
    "# syntax\n",
    "list1 = ['item1', 'item2']\n",
    "list2 = ['item3', 'item4', 'item5']\n",
    "list1.extend(list2)\n",
    "num1 = [0, 1, 2, 3]\n",
    "num2= [4, 5,6]\n",
    "num1.extend(num2)\n",
    "print('Numbers:', num1)\n",
    "negative_numbers = [-5,-4,-3,-2,-1]\n",
    "positive_numbers = [1, 2, 3,4,5]\n",
    "zero = [0]\n",
    "\n",
    "negative_numbers.extend(zero)\n",
    "negative_numbers.extend(positive_numbers)\n",
    "print('Integers:', negative_numbers)\n",
    "fruits = ['banana', 'orange', 'mango', 'lemon']\n",
    "vegetables = ['Tomato', 'Potato', 'Cabbage', 'Onion', 'Carrot']\n",
    "fruits.extend(vegetables)\n",
    "print('Fruits and vegetables:', fruits )"
   ]
  },
  {
   "cell_type": "raw",
   "metadata": {},
   "source": [
    "Counting Items in a List\n",
    "The count() method returns the number of times an item appears in a list:\n",
    "\n",
    "# syntax\n",
    "lst = ['item1', 'item2']\n",
    "lst.count(item)\n",
    "fruits = ['banana', 'orange', 'mango', 'lemon']\n",
    "print(fruits.count('orange'))   # 1\n",
    "ages = [22, 19, 24, 25, 26, 24, 25, 24]\n",
    "print(ages.count(24))           # 3\n"
   ]
  },
  {
   "cell_type": "raw",
   "metadata": {},
   "source": [
    "Finding Index of an Item\n",
    "The index() method returns the index of an item in the list:\n",
    "\n",
    "# syntax\n",
    "lst = ['item1', 'item2']\n",
    "lst.index(item)\n",
    "fruits = ['banana', 'orange', 'mango', 'lemon']\n",
    "print(fruits.index('orange'))   # 1\n",
    "ages = [22, 19, 24, 25, 26, 24, 25, 24]\n",
    "print(ages.index(24))           # 2, the first occurrence"
   ]
  },
  {
   "cell_type": "raw",
   "metadata": {},
   "source": [
    "Reversing a List\n",
    "The reverse() method reverses the order of a list.\n",
    "\n",
    "# syntax\n",
    "lst = ['item1', 'item2']\n",
    "lst.reverse()\n",
    "fruits = ['banana', 'orange', 'mango', 'lemon']\n",
    "fruits.reverse()\n",
    "print(fruits.reverse())\n",
    "ages = [22, 19, 24, 25, 26, 24, 25, 24]\n",
    "ages.reverse()\n",
    "print(ages.reverse())\n",
    "['lemon', 'mango', 'orange', 'banana']\n",
    "[24, 25, 24, 26, 25, 24, 19, 22]"
   ]
  },
  {
   "cell_type": "raw",
   "metadata": {},
   "source": [
    "Sorting List Items\n",
    "To sort lists we can use sort() method or sorted() built-in functions. The sort() method reorders the list items in ascending order and modifies the original list. If an argument of sort() method reverse is equal to true, it will arrange the list in descending order.\n",
    "\n",
    "sort(): this method modifies the original list\n",
    "\n",
    "# syntax\n",
    "lst = ['item1', 'item2']\n",
    "lst.sort()                # ascending\n",
    "lst.sort(reverse=True)    # descending"
   ]
  },
  {
   "cell_type": "raw",
   "metadata": {},
   "source": [
    "Example:\n",
    "\n",
    "fruits = ['banana', 'orange', 'mango', 'lemon']\n",
    "fruits.sort()\n",
    "print(fruits)             # sorted in alphabetical order\n",
    "fruits.sort(reverse=True)\n",
    "print(fruits)\n",
    "ages = [22, 19, 24, 25, 26, 24, 25, 24]\n",
    "ages.sort()\n",
    "print(ages)\n",
    "ages.sort(reverse=True)\n",
    "print(ages)\n",
    "['banana', 'lemon', 'mango', 'orange']\n",
    "['orange', 'mango', 'lemon', 'banana']\n",
    "[19, 22, 24, 24, 24, 25, 25, 26]\n",
    "[26, 25, 25, 24, 24, 24, 22, 19]"
   ]
  },
  {
   "cell_type": "raw",
   "metadata": {},
   "source": [
    "sorted(): returns the ordered list without modifying the original Example:\n",
    "\n",
    "fruits = ['banana', 'orange', 'mango', 'lemon']\n",
    "print(sorted(fruits))     # ['banana', 'lemon', 'mango', 'orange']\n",
    "# Reverse order\n",
    "fruits = ['banana', 'orange', 'mango', 'lemon']\n",
    "fruits = sorted(fruits,reverse=True)\n",
    "print(fruits)     # ['orange', 'mango', 'lemon', 'banana']"
   ]
  },
  {
   "cell_type": "raw",
   "metadata": {},
   "source": [
    "Declare an empty list\n",
    "\n",
    "Declare a list with more than 5 items\n",
    "\n",
    "Find the length of your list\n",
    "\n",
    "Get the first item, the middle item and the last item of the list\n",
    "\n",
    "Declare a list called mixed_data_types, put your(name, age, height, marital status, address)\n",
    "\n",
    "Declare a list variable named it_companies and assign initial values Facebook, Google, Microsoft, Apple, IBM, Oracle and Amazon.\n",
    "\n",
    "Print the list using print()\n",
    "\n",
    "Print the number of companies in the list\n",
    "\n",
    "Print the first, middle and last company\n",
    "\n",
    "Print the list after modifying one of the companies\n",
    "\n",
    "Add an IT company to it_companies\n",
    "\n",
    "Insert an IT company in the middle of the companies list\n",
    "\n",
    "Change one of the it_companies names to uppercase (IBM excluded!)\n",
    "\n",
    "Join the it_companies with a string '#;  '\n",
    "\n",
    "Check if a certain company exists in the it_companies list.\n",
    "\n",
    "Sort the list using sort() method\n",
    "\n",
    "Reverse the list in descending order using reverse() method\n",
    "\n",
    "Slice out the first 3 companies from the list\n",
    "\n",
    "Slice out the last 3 companies from the list\n",
    "\n",
    "Slice out the middle IT company or companies from the list\n",
    "\n",
    "Remove the first IT company from the list\n",
    "\n",
    "Remove the middle IT company or companies from the list\n",
    "\n",
    "Remove the last IT company from the list\n",
    "\n",
    "Remove all IT companies from the list\n",
    "\n",
    "Destroy the IT companies list\n",
    "\n",
    "Join the following lists:\n",
    "\n",
    "front_end = ['HTML', 'CSS', 'JS', 'React', 'Redux']\n",
    "back_end = ['Node','Express', 'MongoDB']\n",
    "After joining the lists in question 26. Copy the joined list and assign it to a variable full_stack. Then insert Python and SQL after Redux.\n",
    "\n",
    "The following is a list of 10 students ages:\n",
    "\n",
    "ages = [19, 22, 19, 24, 20, 25, 26, 24, 25, 24]\n",
    "Sort the list and find the min and max age\n",
    "Add the min age and the max age again to the list\n",
    "Find the median age (one middle item or two middle items divided by two)\n",
    "Find the average age (sum of all items divided by their number )\n",
    "Find the range of the ages (max minus min)\n",
    "Compare the value of (min - average) and (max - average), use abs() method\n",
    "Find the middle country(ies) in the countries list\n",
    "Divide the countries list into two equal lists if it is even if not one more country for the first half.\n",
    "['China', 'Russia', 'USA', 'Finland', 'Sweden', 'Norway', 'Denmark']. Unpack the first three countries and the rest as scandic countries."
   ]
  },
  {
   "cell_type": "code",
   "execution_count": 7,
   "metadata": {},
   "outputs": [],
   "source": [
    "l=[\"sd\",1,3.5,[1,2,3],(1,2,3),{\"a\":2}]"
   ]
  },
  {
   "cell_type": "code",
   "execution_count": 8,
   "metadata": {},
   "outputs": [
    {
     "name": "stdout",
     "output_type": "stream",
     "text": [
      "<class 'str'>\n",
      "<class 'int'>\n",
      "<class 'float'>\n",
      "<class 'list'>\n",
      "<class 'tuple'>\n",
      "<class 'dict'>\n"
     ]
    }
   ],
   "source": [
    "for i in l:\n",
    "    print(type(i))"
   ]
  },
  {
   "cell_type": "code",
   "execution_count": 12,
   "metadata": {},
   "outputs": [
    {
     "name": "stdout",
     "output_type": "stream",
     "text": [
      "[0, 1, 2, 3, 4, 5, 6, 7, 8, 9]\n"
     ]
    }
   ],
   "source": [
    "a=[0,0,0,0,0,0,0,0,0,0]\n",
    "for i in range(10):\n",
    "    a[i]=i\n",
    "print(a)        \n",
    "    "
   ]
  },
  {
   "cell_type": "code",
   "execution_count": 16,
   "metadata": {},
   "outputs": [
    {
     "name": "stdout",
     "output_type": "stream",
     "text": [
      "sd\n",
      "1\n",
      "3.5\n",
      "[1, 2, 3]\n",
      "(1, 2, 3)\n",
      "{'a': 2}\n"
     ]
    }
   ],
   "source": [
    "al=[\"sd\",1,3.5,[1,2,3],(1,2,3),{\"a\":2}]\n",
    "for i in range(len(al)):\n",
    "    print(al[i])"
   ]
  },
  {
   "cell_type": "code",
   "execution_count": 21,
   "metadata": {},
   "outputs": [
    {
     "data": {
      "text/plain": [
       "'r'"
      ]
     },
     "execution_count": 21,
     "metadata": {},
     "output_type": "execute_result"
    }
   ],
   "source": [
    "a=\"string\"\n",
    "a[-2] #negative indexing\n",
    "a[2] #positive "
   ]
  },
  {
   "cell_type": "code",
   "execution_count": 50,
   "metadata": {},
   "outputs": [
    {
     "name": "stdout",
     "output_type": "stream",
     "text": [
      "orange\n",
      "apple\n"
     ]
    }
   ],
   "source": [
    "k=[\"orange\",\"apple\",\"mango\"]\n",
    "for i in range(len(k)):\n",
    "    if k[i][-1]==\"e\":\n",
    "        print(k[i])"
   ]
  },
  {
   "cell_type": "code",
   "execution_count": 34,
   "metadata": {},
   "outputs": [
    {
     "data": {
      "text/plain": [
       "['sd', 1, 3.5, [1, 2, 3], (1, 2, 3), {'a': 2}]"
      ]
     },
     "execution_count": 34,
     "metadata": {},
     "output_type": "execute_result"
    }
   ],
   "source": [
    "al"
   ]
  },
  {
   "cell_type": "code",
   "execution_count": 51,
   "metadata": {},
   "outputs": [],
   "source": [
    "c=al"
   ]
  },
  {
   "cell_type": "code",
   "execution_count": 68,
   "metadata": {},
   "outputs": [
    {
     "ename": "TypeError",
     "evalue": "'list' object is not callable",
     "output_type": "error",
     "traceback": [
      "\u001b[1;31m---------------------------------------------------------------------------\u001b[0m",
      "\u001b[1;31mTypeError\u001b[0m                                 Traceback (most recent call last)",
      "\u001b[1;32m<ipython-input-68-7aeb86e1e348>\u001b[0m in \u001b[0;36m<module>\u001b[1;34m\u001b[0m\n\u001b[0;32m      1\u001b[0m \u001b[0ma\u001b[0m\u001b[1;33m,\u001b[0m\u001b[0mb\u001b[0m\u001b[1;33m,\u001b[0m\u001b[0mc\u001b[0m\u001b[1;33m,\u001b[0m\u001b[1;33m*\u001b[0m\u001b[0mr\u001b[0m\u001b[1;33m=\u001b[0m\u001b[0mal\u001b[0m\u001b[1;33m\u001b[0m\u001b[0m\n\u001b[1;32m----> 2\u001b[1;33m \u001b[0mkl\u001b[0m\u001b[1;33m=\u001b[0m\u001b[0mlist\u001b[0m\u001b[1;33m(\u001b[0m\u001b[0ma\u001b[0m\u001b[1;33m,\u001b[0m\u001b[0mb\u001b[0m\u001b[1;33m,\u001b[0m\u001b[0mc\u001b[0m\u001b[1;33m)\u001b[0m\u001b[1;33m\u001b[0m\u001b[0m\n\u001b[0m",
      "\u001b[1;31mTypeError\u001b[0m: 'list' object is not callable"
     ]
    }
   ],
   "source": [
    "\n",
    "a,b,c,*r=al\n",
    "kl=(a,b,c)"
   ]
  },
  {
   "cell_type": "code",
   "execution_count": 67,
   "metadata": {},
   "outputs": [
    {
     "name": "stdout",
     "output_type": "stream",
     "text": [
      "sd 1 3.5 [[1, 2, 3], (1, 2, 3), {'a': 2}] ('sd', 1, 3.5)\n"
     ]
    }
   ],
   "source": [
    "print(a,b,c,r,kl)"
   ]
  },
  {
   "cell_type": "code",
   "execution_count": 65,
   "metadata": {},
   "outputs": [
    {
     "data": {
      "text/plain": [
       "['sd', 1, 3.5, [1, 2, 3], (1, 2, 3), {'a': 2}]"
      ]
     },
     "execution_count": 65,
     "metadata": {},
     "output_type": "execute_result"
    }
   ],
   "source": [
    "al"
   ]
  },
  {
   "cell_type": "code",
   "execution_count": 76,
   "metadata": {},
   "outputs": [
    {
     "data": {
      "text/plain": [
       "'gnirts'"
      ]
     },
     "execution_count": 76,
     "metadata": {},
     "output_type": "execute_result"
    }
   ],
   "source": [
    "s=\"string\"\n",
    "s[::-1]"
   ]
  },
  {
   "cell_type": "code",
   "execution_count": 83,
   "metadata": {},
   "outputs": [
    {
     "data": {
      "text/plain": [
       "[1, [1, 2, 3], {'a': 2}]"
      ]
     },
     "execution_count": 83,
     "metadata": {},
     "output_type": "execute_result"
    }
   ],
   "source": [
    "#slicing\n",
    "al[1:len(al):2]"
   ]
  },
  {
   "cell_type": "code",
   "execution_count": 85,
   "metadata": {},
   "outputs": [
    {
     "name": "stdout",
     "output_type": "stream",
     "text": [
      "8784\n"
     ]
    }
   ],
   "source": [
    "\"123456789\"\n",
    "\"1234(5678)9\"\n",
    "1+2+3+4+9\n",
    "print(8765+19)"
   ]
  },
  {
   "cell_type": "code",
   "execution_count": 118,
   "metadata": {},
   "outputs": [
    {
     "name": "stdout",
     "output_type": "stream",
     "text": [
      "[1, 2, 3, 4, 5, 6, 7, 8, 9, 1, 2, 3]\n",
      "8790\n"
     ]
    }
   ],
   "source": [
    "a=\"123456789123\"\n",
    "b=[]\n",
    "for i in a:\n",
    "    b.append(int(i))\n",
    "print(b)    \n",
    "k=sum(b[:a.find(\"5\")])+sum(b[a.find(\"8\")+1:])    \n",
    "c=a[a.find(\"5\"):a.find(\"8\")+1]\n",
    "print(int(c[::-1])+k)"
   ]
  },
  {
   "cell_type": "code",
   "execution_count": 100,
   "metadata": {},
   "outputs": [
    {
     "data": {
      "text/plain": [
       "4"
      ]
     },
     "execution_count": 100,
     "metadata": {},
     "output_type": "execute_result"
    }
   ],
   "source": [
    "a.find(\"5\")"
   ]
  },
  {
   "cell_type": "code",
   "execution_count": 107,
   "metadata": {},
   "outputs": [
    {
     "ename": "AttributeError",
     "evalue": "'str' object has no attribute 'sep'",
     "output_type": "error",
     "traceback": [
      "\u001b[1;31m---------------------------------------------------------------------------\u001b[0m",
      "\u001b[1;31mAttributeError\u001b[0m                            Traceback (most recent call last)",
      "\u001b[1;32m<ipython-input-107-d845036cdb08>\u001b[0m in \u001b[0;36m<module>\u001b[1;34m\u001b[0m\n\u001b[1;32m----> 1\u001b[1;33m \u001b[0mb\u001b[0m\u001b[1;33m=\u001b[0m\u001b[0mlist\u001b[0m\u001b[1;33m(\u001b[0m\u001b[0mmap\u001b[0m\u001b[1;33m(\u001b[0m\u001b[0mint\u001b[0m\u001b[1;33m,\u001b[0m\u001b[0ma\u001b[0m\u001b[1;33m[\u001b[0m\u001b[1;33m:\u001b[0m\u001b[1;36m4\u001b[0m\u001b[1;33m]\u001b[0m\u001b[1;33m.\u001b[0m\u001b[0msep\u001b[0m\u001b[1;33m(\u001b[0m\u001b[1;33m)\u001b[0m\u001b[1;33m)\u001b[0m\u001b[1;33m)\u001b[0m\u001b[1;33m\u001b[0m\u001b[0m\n\u001b[0m\u001b[0;32m      2\u001b[0m \u001b[0mprint\u001b[0m\u001b[1;33m(\u001b[0m\u001b[0mb\u001b[0m\u001b[1;33m)\u001b[0m\u001b[1;33m\u001b[0m\u001b[0m\n",
      "\u001b[1;31mAttributeError\u001b[0m: 'str' object has no attribute 'sep'"
     ]
    }
   ],
   "source": [
    "\n",
    "print(b)\n"
   ]
  },
  {
   "cell_type": "code",
   "execution_count": 102,
   "metadata": {},
   "outputs": [
    {
     "data": {
      "text/plain": [
       "7"
      ]
     },
     "execution_count": 102,
     "metadata": {},
     "output_type": "execute_result"
    }
   ],
   "source": [
    "a.find(\"8\")"
   ]
  },
  {
   "cell_type": "code",
   "execution_count": 103,
   "metadata": {},
   "outputs": [
    {
     "data": {
      "text/plain": [
       "'9123'"
      ]
     },
     "execution_count": 103,
     "metadata": {},
     "output_type": "execute_result"
    }
   ],
   "source": [
    "a[7+1:]"
   ]
  },
  {
   "cell_type": "code",
   "execution_count": 139,
   "metadata": {},
   "outputs": [
    {
     "name": "stdout",
     "output_type": "stream",
     "text": [
      "[1, 2, 3, 4, 5]\n"
     ]
    }
   ],
   "source": [
    "s=\"12345\"\n",
    "m=[]\n",
    "for i in s:\n",
    "    m.append(int(i))\n",
    "print(m)   "
   ]
  },
  {
   "cell_type": "code",
   "execution_count": 140,
   "metadata": {},
   "outputs": [],
   "source": [
    "n=[1,2]\n",
    "m.append(n)"
   ]
  },
  {
   "cell_type": "code",
   "execution_count": 149,
   "metadata": {},
   "outputs": [],
   "source": [
    "m.extend([8])"
   ]
  },
  {
   "cell_type": "code",
   "execution_count": 150,
   "metadata": {},
   "outputs": [
    {
     "data": {
      "text/plain": [
       "[1, 2, 3, 4, 5, [1, 2], 8, 9, 0, 8, 8]"
      ]
     },
     "execution_count": 150,
     "metadata": {},
     "output_type": "execute_result"
    }
   ],
   "source": [
    "m"
   ]
  },
  {
   "cell_type": "code",
   "execution_count": 155,
   "metadata": {},
   "outputs": [],
   "source": [
    "m.insert(len(m),9)"
   ]
  },
  {
   "cell_type": "code",
   "execution_count": 156,
   "metadata": {},
   "outputs": [
    {
     "data": {
      "text/plain": [
       "[9, 1, 2, 3, 4, 5, [1, 2], 8, 9, 0, 0, 8, 8, 9]"
      ]
     },
     "execution_count": 156,
     "metadata": {},
     "output_type": "execute_result"
    }
   ],
   "source": [
    "m"
   ]
  },
  {
   "cell_type": "code",
   "execution_count": null,
   "metadata": {},
   "outputs": [],
   "source": []
  }
 ],
 "metadata": {
  "kernelspec": {
   "display_name": "Python 3",
   "language": "python",
   "name": "python3"
  },
  "language_info": {
   "codemirror_mode": {
    "name": "ipython",
    "version": 3
   },
   "file_extension": ".py",
   "mimetype": "text/x-python",
   "name": "python",
   "nbconvert_exporter": "python",
   "pygments_lexer": "ipython3",
   "version": "3.6.4"
  }
 },
 "nbformat": 4,
 "nbformat_minor": 2
}
