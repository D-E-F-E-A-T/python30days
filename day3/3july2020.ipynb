{
 "cells": [
  {
   "cell_type": "markdown",
   "metadata": {},
   "source": [
    "# Day3:\n",
    "    \n",
    "  <b>Functions()<br> \n",
    "  Arguments<br>\n",
    "  global ,local<br>\n",
    "  Recursion<br>\n",
    "  return concept<br>\n",
    "    Random"
   ]
  },
  {
   "cell_type": "code",
   "execution_count": 1,
   "metadata": {},
   "outputs": [],
   "source": [
    "#https://www.hackerrank.com/challenges/write-a-function/problem"
   ]
  },
  {
   "cell_type": "code",
   "execution_count": null,
   "metadata": {},
   "outputs": [],
   "source": [
    "From a function's perspective:\n",
    "\n",
    "A parameter is the variable listed inside the parentheses in the function definition.\n",
    "\n",
    "An argument is the value that is sent to the function when it is called."
   ]
  },
  {
   "cell_type": "code",
   "execution_count": null,
   "metadata": {},
   "outputs": [],
   "source": [
    "Information can be passed into functions as arguments.\n",
    "\n",
    "Arguments are specified after the function name, inside the parentheses. You can add as many arguments as you want, just separate them with a comma."
   ]
  },
  {
   "cell_type": "code",
   "execution_count": 30,
   "metadata": {},
   "outputs": [
    {
     "name": "stdout",
     "output_type": "stream",
     "text": [
      "30\n"
     ]
    }
   ],
   "source": [
    "def calculate_sum(data1, data2): #funtion definition\n",
    "    #All the statements in the block of code must have the same level of indentation\n",
    "    result_sum=data1+data2\n",
    "    return result_sum\n",
    "\n",
    "result=calculate_sum(10,20) #function call\n",
    "print(result)"
   ]
  },
  {
   "cell_type": "code",
   "execution_count": 86,
   "metadata": {},
   "outputs": [
    {
     "name": "stdout",
     "output_type": "stream",
     "text": [
      "2\n",
      "4\n",
      "3\n",
      "4\n",
      "3\n"
     ]
    }
   ],
   "source": [
    "from random import randint as n\n",
    "x=1\n",
    "y=5\n",
    "for i in range(5):\n",
    "    print(n(x,y))\n"
   ]
  },
  {
   "cell_type": "code",
   "execution_count": 82,
   "metadata": {},
   "outputs": [
    {
     "name": "stdout",
     "output_type": "stream",
     "text": [
      "300\n",
      "2.0\n"
     ]
    }
   ],
   "source": [
    "a=10\n",
    "b=20\n",
    "s=a+b\n",
    "k=a*s\n",
    "print(k)\n",
    "l=b/a\n",
    "print(l)"
   ]
  },
  {
   "cell_type": "code",
   "execution_count": null,
   "metadata": {},
   "outputs": [],
   "source": [
    "simantic error and syntatic error"
   ]
  },
  {
   "cell_type": "code",
   "execution_count": 21,
   "metadata": {},
   "outputs": [
    {
     "name": "stdout",
     "output_type": "stream",
     "text": [
      "30\n",
      "10\n"
     ]
    }
   ],
   "source": [
    "def sum(b,c):\n",
    "    s=b+c\n",
    "    return s \n",
    "\n",
    "\n",
    "a=10\n",
    "b=20\n",
    "c=sum(a,b)\n",
    "print(c) \n",
    "\n",
    "   "
   ]
  },
  {
   "cell_type": "code",
   "execution_count": 26,
   "metadata": {},
   "outputs": [
    {
     "name": "stdout",
     "output_type": "stream",
     "text": [
      "10\n"
     ]
    }
   ],
   "source": [
    "#without return\n",
    "def subtract(b,c):\n",
    "    d=b-c\n",
    "    print(d)\n",
    "a=10\n",
    "b=20\n",
    "subtract(b,a)\n"
   ]
  },
  {
   "cell_type": "code",
   "execution_count": 27,
   "metadata": {},
   "outputs": [
    {
     "name": "stdout",
     "output_type": "stream",
     "text": [
      "10\n"
     ]
    }
   ],
   "source": [
    "#use of function inside print\n",
    "def subtract(b,c):\n",
    "    d=b-c\n",
    "    return d\n",
    "a=10\n",
    "b=20\n",
    "print(subtract(b,a))"
   ]
  },
  {
   "cell_type": "code",
   "execution_count": 28,
   "metadata": {},
   "outputs": [
    {
     "name": "stdout",
     "output_type": "stream",
     "text": [
      "No\n"
     ]
    }
   ],
   "source": [
    "def sum(b,c):\n",
    "    s=b+c\n",
    "    return s \n",
    "\n",
    "\n",
    "a=10\n",
    "b=20\n",
    "\n",
    "if sum(a,b)>100:\n",
    "    print(\"yes\")\n",
    "else:\n",
    "    print(\"No\")\n"
   ]
  },
  {
   "cell_type": "code",
   "execution_count": 29,
   "metadata": {},
   "outputs": [
    {
     "name": "stdout",
     "output_type": "stream",
     "text": [
      "11\n"
     ]
    }
   ],
   "source": [
    "def repeat(a):\n",
    "    a+=1\n",
    "    if a>10:\n",
    "        return a\n",
    "    else:\n",
    "        return repeat(a)\n",
    "    \n",
    "a=0\n",
    "c=repeat(a)\n",
    "print(c)\n",
    "        "
   ]
  },
  {
   "cell_type": "code",
   "execution_count": 37,
   "metadata": {},
   "outputs": [
    {
     "name": "stdout",
     "output_type": "stream",
     "text": [
      "30\n"
     ]
    }
   ],
   "source": [
    "#positional arg\n",
    "def sum(a,b,c):\n",
    "    return a+b+c\n",
    "a,b=10,20\n",
    "print(sum(a,b,0))"
   ]
  },
  {
   "cell_type": "code",
   "execution_count": 43,
   "metadata": {},
   "outputs": [
    {
     "name": "stdout",
     "output_type": "stream",
     "text": [
      "90\n"
     ]
    }
   ],
   "source": [
    "#variable arg\n",
    "def sum(a,b,*args):\n",
    "    c=a+b\n",
    "    for i in args:\n",
    "        c+=i\n",
    "    return c    \n",
    "a,b=10,20\n",
    "print(sum(a,b,25,35))"
   ]
  },
  {
   "cell_type": "code",
   "execution_count": 51,
   "metadata": {},
   "outputs": [
    {
     "name": "stdout",
     "output_type": "stream",
     "text": [
      "40\n"
     ]
    }
   ],
   "source": [
    "#defualt\n",
    "def sum(b,a,c=10):\n",
    "    c=a+b+c\n",
    "    \n",
    "    return c    \n",
    "a,b=10,20\n",
    "c=30\n",
    "print(sum(a,b))\n"
   ]
  },
  {
   "cell_type": "code",
   "execution_count": 59,
   "metadata": {},
   "outputs": [
    {
     "name": "stdout",
     "output_type": "stream",
     "text": [
      "50\n"
     ]
    }
   ],
   "source": [
    "#keyword\n",
    "def sum(a,b,c):\n",
    "    d=a+b\n",
    "    e=b-c\n",
    "    \n",
    "    return d    \n",
    "a,b=10,20\n",
    "c=30\n",
    "print(sum(a=b,b=c,c=a))"
   ]
  },
  {
   "cell_type": "code",
   "execution_count": 68,
   "metadata": {},
   "outputs": [
    {
     "name": "stdout",
     "output_type": "stream",
     "text": [
      "20\n"
     ]
    }
   ],
   "source": [
    "a=10\n",
    "def check(a):\n",
    "    b=10\n",
    "\n",
    "print(b)    \n"
   ]
  },
  {
   "cell_type": "code",
   "execution_count": null,
   "metadata": {},
   "outputs": [],
   "source": [
    "import random\n",
    "import itertools \n"
   ]
  },
  {
   "cell_type": "code",
   "execution_count": 87,
   "metadata": {},
   "outputs": [],
   "source": [
    "#help(\"random\")"
   ]
  },
  {
   "cell_type": "code",
   "execution_count": null,
   "metadata": {},
   "outputs": [],
   "source": [
    "1)x%4:\n",
    "    x%100!=0 or x%400==0"
   ]
  }
 ],
 "metadata": {
  "kernelspec": {
   "display_name": "Python 3",
   "language": "python",
   "name": "python3"
  },
  "language_info": {
   "codemirror_mode": {
    "name": "ipython",
    "version": 3
   },
   "file_extension": ".py",
   "mimetype": "text/x-python",
   "name": "python",
   "nbconvert_exporter": "python",
   "pygments_lexer": "ipython3",
   "version": "3.6.4"
  }
 },
 "nbformat": 4,
 "nbformat_minor": 2
}
